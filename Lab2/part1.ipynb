{
 "cells": [
  {
   "cell_type": "code",
   "execution_count": 3,
   "id": "4402320b-af14-417d-8e03-18a4f3efc766",
   "metadata": {},
   "outputs": [
    {
     "name": "stdout",
     "output_type": "stream",
     "text": [
      "Generated Bill:\n",
      "+---------------------+------------+--------------+---------------+\n",
      "| Product             |   Quantity |   Unit Price |   Total Price |\n",
      "+=====================+============+==============+===============+\n",
      "| Samsung smartphones |          3 |        150   |         450   |\n",
      "+---------------------+------------+--------------+---------------+\n",
      "| banana              |          4 |          1.2 |           4.8 |\n",
      "+---------------------+------------+--------------+---------------+\n",
      "| Hamburger           |          1 |          4.5 |           4.5 |\n",
      "+---------------------+------------+--------------+---------------+\n"
     ]
    }
   ],
   "source": [
    "import re\n",
    "import pandas as pd\n",
    "from tabulate import tabulate\n",
    "\n",
    "def generate_bill(text):\n",
    "    stop_words = [\"bought\", \"for\", \"fresh\", \"i\", \"each\", \"kilos\", \"of\", \"a\", \"an\", \"with\"]\n",
    "\n",
    "    cleaned_text = ' '.join(word for word in text.split() if word.lower() not in stop_words)\n",
    "\n",
    "    pattern = r'(\\b(?:one|two|three|four|five|six|seven|eight|nine|ten)\\b)\\s+(\\w+\\s*\\w*)\\s+(?:.*?)(\\d+(?:,\\d+)?)'\n",
    "\n",
    "    matches = re.findall(pattern, cleaned_text)\n",
    "\n",
    "    products = []\n",
    "    quantities = []\n",
    "    unit_prices = []\n",
    "    total_prices = []\n",
    "\n",
    "    for match in matches:\n",
    "        quantity = match[0]\n",
    "        product = match[1]\n",
    "        price = float(match[2].replace(',', '.'))\n",
    "\n",
    "        quantity_mapping = {'one': 1, 'two': 2, 'three': 3, 'four': 4, 'five': 5,\n",
    "                            'six': 6, 'seven': 7, 'eight': 8, 'nine': 9, 'ten': 10}\n",
    "        total_price = price * quantity_mapping.get(quantity, 1)\n",
    "\n",
    "        products.append(product)\n",
    "        quantities.append(quantity_mapping.get(quantity, 1))\n",
    "        unit_prices.append(price)\n",
    "        total_prices.append(total_price)\n",
    "\n",
    "    df = pd.DataFrame({\n",
    "        'Product': products,\n",
    "        'Quantity': quantities,\n",
    "        'Unit Price': unit_prices,\n",
    "        'Total Price': total_prices\n",
    "    })\n",
    "\n",
    "    print(\"Generated Bill:\")\n",
    "    print(tabulate(df, headers='keys', tablefmt='grid', showindex=False))\n",
    "\n",
    "# Test the function\n",
    "text = \"I bought three Samsung smartphones 150 $ each, four kilos of fresh banana for 1,2 dollar a kilogram and one Hamburger with 4,5 dollar\"\n",
    "generate_bill(text)\n"
   ]
  },
  {
   "cell_type": "code",
   "execution_count": null,
   "id": "633b28a2-c666-42e4-8e9a-cfb43fb20603",
   "metadata": {},
   "outputs": [],
   "source": []
  }
 ],
 "metadata": {
  "kernelspec": {
   "display_name": "Python 3 (ipykernel)",
   "language": "python",
   "name": "python3"
  },
  "language_info": {
   "codemirror_mode": {
    "name": "ipython",
    "version": 3
   },
   "file_extension": ".py",
   "mimetype": "text/x-python",
   "name": "python",
   "nbconvert_exporter": "python",
   "pygments_lexer": "ipython3",
   "version": "3.10.12"
  }
 },
 "nbformat": 4,
 "nbformat_minor": 5
}
